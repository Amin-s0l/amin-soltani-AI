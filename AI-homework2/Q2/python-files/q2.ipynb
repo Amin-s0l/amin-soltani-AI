{
 "cells": [
  {
   "cell_type": "markdown",
   "id": "d32a27b3",
   "metadata": {},
   "source": [
    "### required libraries"
   ]
  },
  {
   "cell_type": "code",
   "execution_count": 1,
   "id": "d36f2776",
   "metadata": {},
   "outputs": [],
   "source": [
    "import matplotlib.pyplot as plt\n",
    "import pandas as pd\n",
    "import numpy as np\n",
    "import pylab as pl\n",
    "from sklearn import preprocessing\n"
   ]
  },
  {
   "cell_type": "markdown",
   "id": "5353c6bf",
   "metadata": {},
   "source": [
    "### open file"
   ]
  },
  {
   "cell_type": "code",
   "execution_count": 2,
   "id": "46385efc",
   "metadata": {},
   "outputs": [
    {
     "data": {
      "text/html": [
       "<div>\n",
       "<style scoped>\n",
       "    .dataframe tbody tr th:only-of-type {\n",
       "        vertical-align: middle;\n",
       "    }\n",
       "\n",
       "    .dataframe tbody tr th {\n",
       "        vertical-align: top;\n",
       "    }\n",
       "\n",
       "    .dataframe thead th {\n",
       "        text-align: right;\n",
       "    }\n",
       "</style>\n",
       "<table border=\"1\" class=\"dataframe\">\n",
       "  <thead>\n",
       "    <tr style=\"text-align: right;\">\n",
       "      <th></th>\n",
       "      <th>x1</th>\n",
       "      <th>x2</th>\n",
       "      <th>y</th>\n",
       "    </tr>\n",
       "  </thead>\n",
       "  <tbody>\n",
       "    <tr>\n",
       "      <th>0</th>\n",
       "      <td>1.0</td>\n",
       "      <td>180.0</td>\n",
       "      <td>15.0</td>\n",
       "    </tr>\n",
       "    <tr>\n",
       "      <th>1</th>\n",
       "      <td>1.0</td>\n",
       "      <td>180.0</td>\n",
       "      <td>17.0</td>\n",
       "    </tr>\n",
       "    <tr>\n",
       "      <th>2</th>\n",
       "      <td>1.0</td>\n",
       "      <td>180.0</td>\n",
       "      <td>15.5</td>\n",
       "    </tr>\n",
       "    <tr>\n",
       "      <th>3</th>\n",
       "      <td>1.0</td>\n",
       "      <td>180.0</td>\n",
       "      <td>16.5</td>\n",
       "    </tr>\n",
       "    <tr>\n",
       "      <th>4</th>\n",
       "      <td>1.0</td>\n",
       "      <td>225.0</td>\n",
       "      <td>15.5</td>\n",
       "    </tr>\n",
       "  </tbody>\n",
       "</table>\n",
       "</div>"
      ],
      "text/plain": [
       "    x1     x2     y\n",
       "0  1.0  180.0  15.0\n",
       "1  1.0  180.0  17.0\n",
       "2  1.0  180.0  15.5\n",
       "3  1.0  180.0  16.5\n",
       "4  1.0  225.0  15.5"
      ]
     },
     "execution_count": 2,
     "metadata": {},
     "output_type": "execute_result"
    }
   ],
   "source": [
    "D_electric_df = pd.read_csv(\"Performance-Degradation Data Nelson.csv\")\n",
    "D_electric_df.head()"
   ]
  },
  {
   "cell_type": "code",
   "execution_count": 3,
   "id": "02f66385",
   "metadata": {},
   "outputs": [
    {
     "data": {
      "text/plain": [
       "x1    float64\n",
       "x2    float64\n",
       "y     float64\n",
       "dtype: object"
      ]
     },
     "execution_count": 3,
     "metadata": {},
     "output_type": "execute_result"
    }
   ],
   "source": [
    "D_electric_df.dtypes"
   ]
  },
  {
   "cell_type": "markdown",
   "id": "857f0279",
   "metadata": {},
   "source": [
    "### defin x &  y "
   ]
  },
  {
   "cell_type": "code",
   "execution_count": 4,
   "id": "149ad33b",
   "metadata": {},
   "outputs": [
    {
     "data": {
      "text/plain": [
       "array([[  1., 180.],\n",
       "       [  1., 180.],\n",
       "       [  1., 180.],\n",
       "       [  1., 180.],\n",
       "       [  1., 225.]])"
      ]
     },
     "execution_count": 4,
     "metadata": {},
     "output_type": "execute_result"
    }
   ],
   "source": [
    "feature_df = D_electric_df[['x1', 'x2']]\n",
    "X = np.asarray(feature_df)\n",
    "X[0:5]"
   ]
  },
  {
   "cell_type": "code",
   "execution_count": 5,
   "id": "ea6e8e9f",
   "metadata": {},
   "outputs": [
    {
     "data": {
      "text/plain": [
       "array([15. , 17. , 15.5, 16.5, 15.5, 15. , 16. , 14.5, 15. , 14.5, 12.5,\n",
       "       11. , 14. , 13. , 14. , 11.5, 14. , 16. , 13. , 13.5])"
      ]
     },
     "execution_count": 5,
     "metadata": {},
     "output_type": "execute_result"
    }
   ],
   "source": [
    "D_electric_df['y'] = D_electric_df['y'].astype('float')\n",
    "y = np.asarray(D_electric_df['y'])\n",
    "y [0:20]"
   ]
  },
  {
   "cell_type": "markdown",
   "id": "30efe8bd",
   "metadata": {},
   "source": [
    "### normalizing x"
   ]
  },
  {
   "cell_type": "code",
   "execution_count": 6,
   "id": "4b019e06",
   "metadata": {},
   "outputs": [
    {
     "name": "stdout",
     "output_type": "stream",
     "text": [
      "[[  1. 180.]\n",
      " [  1. 180.]\n",
      " [  1. 180.]\n",
      " [  1. 180.]\n",
      " [  1. 225.]\n",
      " [  1. 225.]\n",
      " [  1. 225.]\n",
      " [  1. 225.]\n",
      " [  1. 250.]\n",
      " [  1. 250.]]\n",
      "[[-0.94101309 -1.49618805]\n",
      " [-0.94101309 -1.49618805]\n",
      " [-0.94101309 -1.49618805]\n",
      " [-0.94101309 -1.49618805]\n",
      " [-0.94101309 -0.21374115]\n",
      " [-0.94101309 -0.21374115]\n",
      " [-0.94101309 -0.21374115]\n",
      " [-0.94101309 -0.21374115]\n",
      " [-0.94101309  0.49872935]\n",
      " [-0.94101309  0.49872935]]\n"
     ]
    }
   ],
   "source": [
    "print(X[0:10])\n",
    "Scaler= preprocessing.StandardScaler().fit(X)\n",
    "X =Scaler.transform(X.astype(float))\n",
    "print(X[0:10])"
   ]
  },
  {
   "cell_type": "markdown",
   "id": "d5a71b98",
   "metadata": {},
   "source": [
    "### Data separation"
   ]
  },
  {
   "cell_type": "code",
   "execution_count": 7,
   "id": "36610d31",
   "metadata": {},
   "outputs": [
    {
     "name": "stdout",
     "output_type": "stream",
     "text": [
      "Train set: (96, 2) (96,)\n",
      "Test set: (32, 2) (32,)\n"
     ]
    }
   ],
   "source": [
    "from sklearn.model_selection import train_test_split\n",
    "X_train, X_test, y_train, y_test =train_test_split( X, y, test_size=0.25, random_state=50)\n",
    "print ('Train set:', X_train.shape,  y_train.shape)\n",
    "print ('Test set:', X_test.shape,  y_test.shape)"
   ]
  },
  {
   "cell_type": "markdown",
   "id": "fc1ac34f",
   "metadata": {},
   "source": [
    "### calculate R2-Score and Mean absolte error with K-Fold cross validation"
   ]
  },
  {
   "cell_type": "code",
   "execution_count": 8,
   "id": "f9caf886",
   "metadata": {},
   "outputs": [
    {
     "name": "stdout",
     "output_type": "stream",
     "text": [
      "MAE (linear kernel): 2.0696381245514797\n",
      "MAE (RBF kernel): 2.2985670505536637\n",
      "MAE (polynomial kernel): 3.762904507074092\n",
      "MAE (sigmoid kernel): 3.00050725303824\n",
      "R2 score (linear kernel): 0.07312273727223464\n",
      "R2 score (RBF kernel): 0.10895320219817875\n",
      "R2 score (polynomial kernel): -1.2982322540950209\n",
      "R2 score (sigmoid kernel): -0.157566767233079\n"
     ]
    }
   ],
   "source": [
    "from sklearn.model_selection import cross_val_score\n",
    "from sklearn.svm import SVR\n",
    "from sklearn.metrics import mean_absolute_error\n",
    "from sklearn.metrics import r2_score\n",
    "import numpy as np\n",
    "\n",
    "model_linear = SVR(kernel='linear')\n",
    "model_rbf = SVR(kernel='rbf')\n",
    "model_poly = SVR(kernel='poly')\n",
    "model_sigmoid = SVR(kernel='sigmoid')\n",
    "\n",
    "mae_linear = -1 * cross_val_score(model_linear, X, y, cv=4, scoring='neg_mean_absolute_error')\n",
    "mae_rbf = -1 * cross_val_score(model_rbf, X, y, cv=4, scoring='neg_mean_absolute_error')\n",
    "mae_poly = -1 * cross_val_score(model_poly, X, y, cv=4, scoring='neg_mean_absolute_error')\n",
    "mae_sigmoid = -1 * cross_val_score(model_sigmoid, X, y, cv=4, scoring='neg_mean_absolute_error')\n",
    "\n",
    "r2_linear = cross_val_score(model_linear, X, y, cv=4, scoring='r2')\n",
    "r2_rbf = cross_val_score(model_rbf, X, y, cv=4, scoring='r2')\n",
    "r2_poly = cross_val_score(model_poly, X, y, cv=4, scoring='r2')\n",
    "r2_sigmoid = cross_val_score(model_sigmoid, X, y, cv=4, scoring='r2')\n",
    "\n",
    "print(\"MAE (linear kernel):\", np.mean(mae_linear))\n",
    "print(\"MAE (RBF kernel):\", np.mean(mae_rbf))\n",
    "print(\"MAE (polynomial kernel):\", np.mean(mae_poly))\n",
    "print(\"MAE (sigmoid kernel):\", np.mean(mae_sigmoid))\n",
    "print(\"R2 score (linear kernel):\", np.mean(r2_linear))\n",
    "print(\"R2 score (RBF kernel):\", np.mean(r2_rbf))\n",
    "print(\"R2 score (polynomial kernel):\", np.mean(r2_poly))\n",
    "print(\"R2 score (sigmoid kernel):\", np.mean(r2_sigmoid))"
   ]
  },
  {
   "cell_type": "markdown",
   "id": "9da99b5e",
   "metadata": {},
   "source": [
    "### calculate R2-Score and Mean absolte error L2 Regularization with alpha=1"
   ]
  },
  {
   "cell_type": "code",
   "execution_count": 9,
   "id": "03db1ae1",
   "metadata": {},
   "outputs": [
    {
     "name": "stdout",
     "output_type": "stream",
     "text": [
      "MAE (linear kernel with regularization): 11.29929843954404\n",
      "MAE (RBF kernel with regularization): 1.1016312676690652\n",
      "MAE (polynomial kernel with regularization): 1.02141057479098\n",
      "MAE (sigmoid kernel with regularization): 1.2015347058745174\n",
      "R2 score (linear kernel with regularization): -8.033753233858183\n",
      "R2 score (RBF kernel with regularization): 0.8540177945904703\n",
      "R2 score (polynomial kernel with regularization): 0.8740271562889432\n",
      "R2 score (sigmoid kernel with regularization): 0.8564279597644999\n"
     ]
    },
    {
     "name": "stderr",
     "output_type": "stream",
     "text": [
      "C:\\Users\\Dell\\anaconda3\\lib\\site-packages\\sklearn\\linear_model\\_ridge.py:255: UserWarning: Singular matrix in solving dual problem. Using least-squares solution instead.\n",
      "  warnings.warn(\n"
     ]
    }
   ],
   "source": [
    "from sklearn.kernel_ridge import KernelRidge\n",
    "from sklearn.metrics import mean_absolute_error\n",
    "from sklearn.model_selection import train_test_split\n",
    "from sklearn.metrics import r2_score\n",
    "import numpy as np\n",
    "\n",
    "model_linear = KernelRidge(kernel='linear', alpha=1)\n",
    "model_rbf = KernelRidge(kernel='rbf', alpha=1)\n",
    "model_poly = KernelRidge(kernel='polynomial', alpha=1)\n",
    "model_sigmoid = KernelRidge(kernel='sigmoid', alpha=1)\n",
    "\n",
    "model_linear.fit(X_train, y_train)\n",
    "model_rbf.fit(X_train, y_train)\n",
    "model_poly.fit(X_train, y_train)\n",
    "model_sigmoid.fit(X_train, y_train)\n",
    "\n",
    "yhat_linear = model_linear.predict(X_test)\n",
    "yhat_rbf = model_rbf.predict(X_test)\n",
    "yhat_poly = model_poly.predict(X_test)\n",
    "yhat_sigmoid = model_sigmoid.predict(X_test)\n",
    "\n",
    "mae_linear = mean_absolute_error(y_test, yhat_linear)\n",
    "mae_rbf = mean_absolute_error(y_test, yhat_rbf)\n",
    "mae_poly = mean_absolute_error(y_test, yhat_poly)\n",
    "mae_sigmoid = mean_absolute_error(y_test, yhat_sigmoid)\n",
    "\n",
    "r2_linear = r2_score(y_test, yhat_linear)\n",
    "r2_rbf = r2_score(y_test, yhat_rbf)\n",
    "r2_poly = r2_score(y_test, yhat_poly)\n",
    "r2_sigmoid = r2_score(y_test, yhat_sigmoid)\n",
    "\n",
    "\n",
    "print(\"MAE (linear kernel with regularization):\", mae_linear)\n",
    "print(\"MAE (RBF kernel with regularization):\", mae_rbf)\n",
    "print(\"MAE (polynomial kernel with regularization):\", mae_poly)\n",
    "print(\"MAE (sigmoid kernel with regularization):\", mae_sigmoid)\n",
    "print(\"R2 score (linear kernel with regularization):\", r2_linear)\n",
    "print(\"R2 score (RBF kernel with regularization):\", r2_rbf)\n",
    "print(\"R2 score (polynomial kernel with regularization):\", r2_poly)\n",
    "print(\"R2 score (sigmoid kernel with regularization):\", r2_sigmoid)"
   ]
  },
  {
   "cell_type": "markdown",
   "id": "1ecc334f",
   "metadata": {},
   "source": [
    "### calculate R2-Score and Mean absolte error L2 Regularization with alpha=2"
   ]
  },
  {
   "cell_type": "code",
   "execution_count": 10,
   "id": "ee52d056",
   "metadata": {},
   "outputs": [
    {
     "name": "stdout",
     "output_type": "stream",
     "text": [
      "MAE  (linear kernel with regularization): 11.3030567335848\n",
      "MAE  (RBF kernel with regularization): 1.2911341613149134\n",
      "MAE  (polynomial kernel with regularization): 1.0801986667755576\n",
      "MAE  (sigmoid kernel with regularization): 2.2035119653940543\n",
      "R2 score (linear kernel with regularization): -8.039870553817783\n",
      "R2 score (RBF kernel with regularization): 0.8005220564348796\n",
      "R2 score (polynomial kernel with regularization): 0.8642112090064145\n",
      "R2 score (sigmoid kernel with regularization): 0.4784939846338221\n"
     ]
    },
    {
     "name": "stderr",
     "output_type": "stream",
     "text": [
      "C:\\Users\\Dell\\anaconda3\\lib\\site-packages\\sklearn\\linear_model\\_ridge.py:255: UserWarning: Singular matrix in solving dual problem. Using least-squares solution instead.\n",
      "  warnings.warn(\n"
     ]
    }
   ],
   "source": [
    "from sklearn.kernel_ridge import KernelRidge\n",
    "from sklearn.metrics import mean_absolute_error\n",
    "from sklearn.model_selection import train_test_split\n",
    "from sklearn.metrics import r2_score\n",
    "import numpy as np\n",
    "\n",
    "model_linear = KernelRidge(kernel='linear', alpha=2)\n",
    "model_rbf = KernelRidge(kernel='rbf', alpha=2)\n",
    "model_poly = KernelRidge(kernel='polynomial', alpha=2)\n",
    "model_sigmoid = KernelRidge(kernel='sigmoid', alpha=2)\n",
    "\n",
    "model_linear.fit(X_train, y_train)\n",
    "model_rbf.fit(X_train, y_train)\n",
    "model_poly.fit(X_train, y_train)\n",
    "model_sigmoid.fit(X_train, y_train)\n",
    "\n",
    "yhat_linear = model_linear.predict(X_test)\n",
    "yhat_rbf = model_rbf.predict(X_test)\n",
    "yhat_poly = model_poly.predict(X_test)\n",
    "yhat_sigmoid = model_sigmoid.predict(X_test)\n",
    "\n",
    "mae_linear = mean_absolute_error(y_test, yhat_linear)\n",
    "mae_rbf = mean_absolute_error(y_test, yhat_rbf)\n",
    "mae_poly = mean_absolute_error(y_test, yhat_poly)\n",
    "mae_sigmoid = mean_absolute_error(y_test, yhat_sigmoid)\n",
    "\n",
    "r2_linear = r2_score(y_test, yhat_linear)\n",
    "r2_rbf = r2_score(y_test, yhat_rbf)\n",
    "r2_poly = r2_score(y_test, yhat_poly)\n",
    "r2_sigmoid = r2_score(y_test, yhat_sigmoid)\n",
    "\n",
    "\n",
    "print(\"MAE  (linear kernel with regularization):\", mae_linear)\n",
    "print(\"MAE  (RBF kernel with regularization):\", mae_rbf)\n",
    "print(\"MAE  (polynomial kernel with regularization):\", mae_poly)\n",
    "print(\"MAE  (sigmoid kernel with regularization):\", mae_sigmoid)\n",
    "print(\"R2 score (linear kernel with regularization):\", r2_linear)\n",
    "print(\"R2 score (RBF kernel with regularization):\", r2_rbf)\n",
    "print(\"R2 score (polynomial kernel with regularization):\", r2_poly)\n",
    "print(\"R2 score (sigmoid kernel with regularization):\", r2_sigmoid)"
   ]
  },
  {
   "cell_type": "markdown",
   "id": "62117b36",
   "metadata": {},
   "source": [
    "### finding best R-2Score"
   ]
  },
  {
   "cell_type": "code",
   "execution_count": 11,
   "id": "7df0333e",
   "metadata": {
    "scrolled": false
   },
   "outputs": [
    {
     "name": "stdout",
     "output_type": "stream",
     "text": [
      "Best parameters:  {'alpha': 0.2, 'degree': 3, 'kernel': 'polynomial'}\n",
      "Best R2 score:  0.7923436501510474\n"
     ]
    }
   ],
   "source": [
    "from sklearn.kernel_ridge import KernelRidge\n",
    "from sklearn.model_selection import GridSearchCV\n",
    "import numpy as np\n",
    "\n",
    "model = KernelRidge()\n",
    "\n",
    "param_grid = {'alpha': [0.2, 0.8, 1, 5, 10, 20, 50 ,300],\n",
    "              'degree': [2,3,4],\n",
    "              'kernel': ['linear', 'rbf', 'polynomial']}\n",
    "\n",
    "grid_search = GridSearchCV(model, param_grid=param_grid, cv=4, scoring='r2')\n",
    "\n",
    "grid_search.fit(X_train, y_train)\n",
    "\n",
    "print(\"Best parameters: \", grid_search.best_params_)\n",
    "print(\"Best R2 score: \", grid_search.best_score_)"
   ]
  }
 ],
 "metadata": {
  "kernelspec": {
   "display_name": "Python 3 (ipykernel)",
   "language": "python",
   "name": "python3"
  },
  "language_info": {
   "codemirror_mode": {
    "name": "ipython",
    "version": 3
   },
   "file_extension": ".py",
   "mimetype": "text/x-python",
   "name": "python",
   "nbconvert_exporter": "python",
   "pygments_lexer": "ipython3",
   "version": "3.10.9"
  }
 },
 "nbformat": 4,
 "nbformat_minor": 5
}
